import pandas as pd

file_paths = [
    '/Users/vincent/Downloads/terrier-project-5.5/var/evalNoPorterNoStop/BM25_1-50',
    '/Users/vincent/Downloads/terrier-project-5.5/var/evalNoPorterNoStop/BM25_51-100',
    '/Users/vincent/Downloads/terrier-project-5.5/var/evalNoPorterNoStop/BM25_101-150',
]

metrics_of_interest = ['num_q', 'num_ret', 'num_rel', 'num_rel_ret', 'map', 'gm_map', 'Rprec', 'bpref', 'recip_rank', 'P_1000']

columns = ['Model', 'Query Range', 'Number of Queries', 'Number of Documents Retrieved', 'Number of Relevant Documents', 'Number of Relevant Documents Retrieved', 'MAP', 'GM_MAP', 'R-Precision', 'Bpref', 'Reciprocal Rank','P_1000']
data_list = []

for file_path in file_paths:
    model = "BM25" if "BM25" in file_path else "Dirichlet"
    query_range = "1-50" if "1-50" in file_path else "51-100" if "51-100" in file_path else "101-150"

    with open(file_path, 'r') as file:
        lines = file.readlines()

    data = {metric: None for metric in metrics_of_interest}
    for line in lines:
        split_line = line.split("\t")
        metric_name = split_line[0].strip()
        if metric_name in metrics_of_interest:
            data[metric_name] = float(split_line[2].strip())

    data_list.append({
        'Model': model,
        'Query Range': query_range,
        'Number of Queries': data['num_q'],
        'Number of Documents Retrieved': data['num_ret'],
        'Number of Relevant Documents': data['num_rel'],
        'Number of Relevant Documents Retrieved': data['num_rel_ret'],
        'MAP': data['map'],
        'GM_MAP': data['gm_map'],
        'R-Precision': data['Rprec'],
        'Bpref': data['bpref'],
        'Reciprocal Rank': data['recip_rank'],
        'P_1000': data['P_1000']
    })

summarized_data = pd.DataFrame(data_list, columns=columns)
summarized_data
