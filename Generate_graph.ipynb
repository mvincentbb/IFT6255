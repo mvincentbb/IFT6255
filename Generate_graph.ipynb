import pandas as pd

file_paths = [
    '/Users/vincent/Downloads/terrier-project-5.5/var/evalNoPorterNoStop/BM25_1-50',
    '/Users/vincent/Downloads/terrier-project-5.5/var/evalNoPorterNoStop/BM25_51-100',
    '/Users/vincent/Downloads/terrier-project-5.5/var/evalNoPorterNoStop/BM25_101-150',
]

metrics_of_interest = ['num_q', 'num_ret', 'num_rel', 'num_rel_ret', 'map', 'gm_map', 'Rprec', 'bpref', 'recip_rank', 'P_1000']

columns = ['Model', 'Query Range', 'Number of Queries', 'Number of Documents Retrieved', 'Number of Relevant Documents', 'Number of Relevant Documents Retrieved', 'MAP', 'GM_MAP', 'R-Precision', 'Bpref', 'Reciprocal Rank','P_1000']
data_list = []

for file_path in file_paths:
    model = "BM25" if "BM25" in file_path else "Dirichlet"
    query_range = "1-50" if "1-50" in file_path else "51-100" if "51-100" in file_path else "101-150"

    with open(file_path, 'r') as file:
        lines = file.readlines()

    data = {metric: None for metric in metrics_of_interest}
    for line in lines:
        split_line = line.split("\t")
        metric_name = split_line[0].strip()
        if metric_name in metrics_of_interest:
            data[metric_name] = float(split_line[2].strip())

    data_list.append({
        'Model': model,
        'Query Range': query_range,
        'Number of Queries': data['num_q'],
        'Number of Documents Retrieved': data['num_ret'],
        'Number of Relevant Documents': data['num_rel'],
        'Number of Relevant Documents Retrieved': data['num_rel_ret'],
        'MAP': data['map'],
        'GM_MAP': data['gm_map'],
        'R-Precision': data['Rprec'],
        'Bpref': data['bpref'],
        'Reciprocal Rank': data['recip_rank'],
        'P_1000': data['P_1000']
    })

summarized_data = pd.DataFrame(data_list, columns=columns)
summarized_data



import pandas as pd
import matplotlib.pyplot as plt
import seaborn as sns

# Data
data = {
    "System": [
        "Galago Krovetz BM25", 
        "Galago Krovetz DIRICHLET", 
        "SOLR  BM25", 
        "SOLR  TF-IDF", 
        "TERRIER  BM25", 
        "TERRIER  DIRICHLET", 
        "TERRIER LONG_QUERRIES+BM25", 
        "TERRIER  TF-IDF"
    ],
    "MAP 1-50": [0.0838, 0.0871, 0.0656, 0.0656, 0.0930, 0.0753, 0.2326, 0.0977],
    "MAP 51-100": [0.2021, 0.1968, 0.1812, 0.1813, 0.1688, 0.1149, 0.3225, 0.1726],
    "MAP 101-150": [0.1941, 0.1943, 0.0536, 0.0536, 0.1466, 0.1052, 0.3540, 0.1606],
    "MAP MEAN": [0.1600, 0.1594, 0.1001, 0.1002, 0.1361, 0.0985, 0.3030, 0.1436]
}

# Create DataFrame
df = pd.DataFrame(data)

# Melt the DataFrame for seaborn
melted_df = pd.melt(df, id_vars=["System"], value_vars=["MAP 1-50", "MAP 51-100", "MAP 101-150"],
                    var_name="Topic Range", value_name="MAP Score")

# Plotting the box plot
plt.figure(figsize=(14, 8))

sns.boxplot(x='System', y='MAP Score', data=melted_df, palette='Set3')
plt.title('Box Plot of MAP Scores for Each System')
plt.ylabel('MAP Score')
plt.xticks(rotation=45)
plt.grid(True)
plt.show()



import pandas as pd
import matplotlib.pyplot as plt
import seaborn as sns

# Data
data = {
    "System": [
        "Galago Krovetz BM25", 
        "Galago Krovetz DIRICHLET", 
        "SOLR  BM25", 
        "SOLR  TF-IDF", 
        "TERRIER  BM25", 
        "TERRIER  DIRICHLET", 
        "TERRIER LONG_QUERRIES+BM25", 
        "TERRIER  TF-IDF"
    ],
     "TIME 1-50": [1862, 1592, 186, 104, 2562, 2529, 10296, 1382],
    "TIME 51-100": [4584, 4921, 287, 664, 1716, 1904, 7844, 1157],
    "TIME 101-150": [4424, 5682, 107, 693, 2306, 3412, 10779, 3228],
    "TIME MEAN": [3623.33, 4065.00, 193.33, 487.00, 2194.67, 2615.00, 9639.67, 1922.33]
}

# Create DataFrame
df = pd.DataFrame(data)

# Melt the DataFrame for seaborn
melted_df = pd.melt(df, id_vars=["System"], value_vars=["TIME 1-50", "TIME 51-100", "TIME 101-150"],
                    var_name="Topic Range", value_name="Retriving Time")

# Plotting the box plot
plt.figure(figsize=(14, 8))

sns.boxplot(x='System', y='Retriving Time', data=melted_df, palette='Set3')
plt.title('Box Plot of Retriving Time for Each System')
plt.ylabel('Retriving Time')
plt.xlabel('System')
plt.xticks(rotation=45)
plt.grid(True)
plt.show()


import matplotlib.pyplot as plt
import seaborn as sns
import pandas as pd

# Data preparation
new_graph_data = pd.DataFrame({
    "System": [
        "Galago Krovetz BM25", "Galago Krovetz DIRICHLET",
        "SOLR BM25", "SOLR TF-IDF",
        "TERRIER BM25", "TERRIER DIRICHLET",
        "TERRIER LONG QUERRIES+BM25", "TERRIER TF-IDF"
    ],
    "MAP MEAN": [0.1600, 0.1594, 0.1001, 0.1002, 0.1361, 0.0985, 0.3030, 0.1436],
    "TIME MEAN": [3623.33, 4065.00, 193.33, 487.00, 2194.67, 2615.00, 9639.67, 1922.33]
})

# Plotting
plt.figure(figsize=(14, 8))

# Generating a color palette with a unique color for each system
colors = sns.color_palette('tab10', n_colors=new_graph_data['System'].nunique())

# Scatter plot for MAP MEAN vs. TIME MEAN with unique colors for each system
for i, row in new_graph_data.iterrows():
    plt.scatter(x=row['MAP MEAN'], y=row['TIME MEAN'], color=colors[i % len(colors)], s=100, label=row['System'])

    # Annotating each point with its full system name
    plt.text(x=row['MAP MEAN'] + 0.002,  # Adding a small offset to x for readability
             y=row['TIME MEAN'],
             s=row['System'],
             fontdict=dict(color='black', size=10),
             bbox=dict(facecolor='white', alpha=0.5, boxstyle="round,pad=0.3"))

# Removing duplicate labels in the legend
handles, labels = plt.gca().get_legend_handles_labels()
by_label = dict(zip(labels, handles))
plt.legend(by_label.values(), by_label.keys(), title='System', bbox_to_anchor=(1.05, 1), loc='upper left')

plt.title('MAP MEAN vs. TIME MEAN for Each System')
plt.xlabel('MAP MEAN')
plt.ylabel('TIME MEAN (milliseconds)')
plt.grid(True)
plt.tight_layout()
plt.show()

